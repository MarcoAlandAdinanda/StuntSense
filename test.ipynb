{
 "cells": [
  {
   "cell_type": "code",
   "execution_count": 1,
   "metadata": {},
   "outputs": [
    {
     "data": {
      "text/plain": [
       "['sjlfjsl', 'ljslfj', 'slkjflsjf', 'slfjkf.png']"
      ]
     },
     "execution_count": 1,
     "metadata": {},
     "output_type": "execute_result"
    }
   ],
   "source": [
    "test_path = 'sjlfjsl/ljslfj/slkjflsjf/slfjkf.png'\n",
    "test_path.split('/')"
   ]
  },
  {
   "cell_type": "code",
   "execution_count": 8,
   "metadata": {},
   "outputs": [
    {
     "name": "stdout",
     "output_type": "stream",
     "text": [
      "228.0\n"
     ]
    }
   ],
   "source": [
    "import pandas as pd\n",
    "sensor_data = pd.read_csv('resources/sensor_data/sensor_data.csv')\n",
    "data = sensor_data.loc[(sensor_data.img_path == 'resources/sensor_data/foto7.csv'), ['cam_dist', 'cam_roll', 'cam_pitch']].values[0]\n",
    "a, b, c = data[0], data[1], data[2]\n",
    "print(a)"
   ]
  },
  {
   "cell_type": "code",
   "execution_count": 11,
   "metadata": {},
   "outputs": [
    {
     "name": "stdout",
     "output_type": "stream",
     "text": [
      "12.0 -8.2 12.0\n"
     ]
    }
   ],
   "source": [
    "sensor_data = pd.read_csv('resources/sensor_data/sensor_data.csv')\n",
    "data = sensor_data.loc[(sensor_data.img_name == 'foto3.png'), ['cam_dist', 'cam_roll', 'cam_pitch']].values[0]\n",
    "cam_dist, cam_roll, cam_pitch = data[0], data[1], data[2]\n",
    "print(cam_dist, cam_roll, cam_dist)"
   ]
  }
 ],
 "metadata": {
  "kernelspec": {
   "display_name": "pytorch",
   "language": "python",
   "name": "python3"
  },
  "language_info": {
   "codemirror_mode": {
    "name": "ipython",
    "version": 3
   },
   "file_extension": ".py",
   "mimetype": "text/x-python",
   "name": "python",
   "nbconvert_exporter": "python",
   "pygments_lexer": "ipython3",
   "version": "3.10.13"
  }
 },
 "nbformat": 4,
 "nbformat_minor": 2
}
